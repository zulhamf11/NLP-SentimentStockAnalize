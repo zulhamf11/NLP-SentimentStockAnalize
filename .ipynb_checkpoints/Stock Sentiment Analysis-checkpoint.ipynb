{
 "cells": [
  {
   "cell_type": "code",
   "execution_count": 39,
   "metadata": {
    "colab": {},
    "colab_type": "code",
    "id": "1vvowgFiFDSw"
   },
   "outputs": [],
   "source": [
    "import numpy as np\n",
    "import pandas as pd"
   ]
  },
  {
   "cell_type": "code",
   "execution_count": 40,
   "metadata": {
    "colab": {},
    "colab_type": "code",
    "id": "osxCkBCdFUGw"
   },
   "outputs": [],
   "source": [
    "df = pd.read_csv('StockHeadlines.csv', encoding = 'ISO-8859-1')"
   ]
  },
  {
   "cell_type": "markdown",
   "metadata": {
    "colab_type": "text",
    "id": "5DAJPl26Am0B"
   },
   "source": [
    "# **Exploring the dataset**"
   ]
  },
  {
   "cell_type": "code",
   "execution_count": 41,
   "metadata": {
    "colab": {
     "base_uri": "https://localhost:8080/",
     "height": 105
    },
    "colab_type": "code",
    "id": "FH2rM0eMFpdD",
    "outputId": "348c6fc7-635c-4214-d00b-23a94046a1a4"
   },
   "outputs": [
    {
     "data": {
      "text/plain": [
       "Index(['Date', 'Label', 'Top1', 'Top2', 'Top3', 'Top4', 'Top5', 'Top6', 'Top7',\n",
       "       'Top8', 'Top9', 'Top10', 'Top11', 'Top12', 'Top13', 'Top14', 'Top15',\n",
       "       'Top16', 'Top17', 'Top18', 'Top19', 'Top20', 'Top21', 'Top22', 'Top23',\n",
       "       'Top24', 'Top25'],\n",
       "      dtype='object')"
      ]
     },
     "execution_count": 41,
     "metadata": {},
     "output_type": "execute_result"
    }
   ],
   "source": [
    "df.columns"
   ]
  },
  {
   "cell_type": "code",
   "execution_count": 42,
   "metadata": {
    "colab": {
     "base_uri": "https://localhost:8080/",
     "height": 34
    },
    "colab_type": "code",
    "id": "Lo08VgVxF5GS",
    "outputId": "df0db46b-a60c-4c7a-dc8a-858132d84aac"
   },
   "outputs": [
    {
     "data": {
      "text/plain": [
       "(4101, 27)"
      ]
     },
     "execution_count": 42,
     "metadata": {},
     "output_type": "execute_result"
    }
   ],
   "source": [
    "df.shape"
   ]
  },
  {
   "cell_type": "code",
   "execution_count": 43,
   "metadata": {
    "colab": {
     "base_uri": "https://localhost:8080/",
     "height": 491
    },
    "colab_type": "code",
    "id": "J7RvKfrTBqo5",
    "outputId": "61cd42b7-5eea-4b98-eecf-14ccf5beadc9"
   },
   "outputs": [
    {
     "data": {
      "text/html": [
       "<div>\n",
       "<style scoped>\n",
       "    .dataframe tbody tr th:only-of-type {\n",
       "        vertical-align: middle;\n",
       "    }\n",
       "\n",
       "    .dataframe tbody tr th {\n",
       "        vertical-align: top;\n",
       "    }\n",
       "\n",
       "    .dataframe thead th {\n",
       "        text-align: right;\n",
       "    }\n",
       "</style>\n",
       "<table border=\"1\" class=\"dataframe\">\n",
       "  <thead>\n",
       "    <tr style=\"text-align: right;\">\n",
       "      <th></th>\n",
       "      <th>Date</th>\n",
       "      <th>Label</th>\n",
       "      <th>Top1</th>\n",
       "      <th>Top2</th>\n",
       "      <th>Top3</th>\n",
       "      <th>Top4</th>\n",
       "      <th>Top5</th>\n",
       "      <th>Top6</th>\n",
       "      <th>Top7</th>\n",
       "      <th>Top8</th>\n",
       "      <th>...</th>\n",
       "      <th>Top16</th>\n",
       "      <th>Top17</th>\n",
       "      <th>Top18</th>\n",
       "      <th>Top19</th>\n",
       "      <th>Top20</th>\n",
       "      <th>Top21</th>\n",
       "      <th>Top22</th>\n",
       "      <th>Top23</th>\n",
       "      <th>Top24</th>\n",
       "      <th>Top25</th>\n",
       "    </tr>\n",
       "  </thead>\n",
       "  <tbody>\n",
       "    <tr>\n",
       "      <th>0</th>\n",
       "      <td>2000-01-03</td>\n",
       "      <td>0</td>\n",
       "      <td>A 'hindrance to operations': extracts from the...</td>\n",
       "      <td>Scorecard</td>\n",
       "      <td>Hughes' instant hit buoys Blues</td>\n",
       "      <td>Jack gets his skates on at ice-cold Alex</td>\n",
       "      <td>Chaos as Maracana builds up for United</td>\n",
       "      <td>Depleted Leicester prevail as Elliott spoils E...</td>\n",
       "      <td>Hungry Spurs sense rich pickings</td>\n",
       "      <td>Gunners so wide of an easy target</td>\n",
       "      <td>...</td>\n",
       "      <td>Flintoff injury piles on woe for England</td>\n",
       "      <td>Hunters threaten Jospin with new battle of the...</td>\n",
       "      <td>Kohl's successor drawn into scandal</td>\n",
       "      <td>The difference between men and women</td>\n",
       "      <td>Sara Denver, nurse turned solicitor</td>\n",
       "      <td>Diana's landmine crusade put Tories in a panic</td>\n",
       "      <td>Yeltsin's resignation caught opposition flat-f...</td>\n",
       "      <td>Russian roulette</td>\n",
       "      <td>Sold out</td>\n",
       "      <td>Recovering a title</td>\n",
       "    </tr>\n",
       "    <tr>\n",
       "      <th>1</th>\n",
       "      <td>2000-01-04</td>\n",
       "      <td>0</td>\n",
       "      <td>Scorecard</td>\n",
       "      <td>The best lake scene</td>\n",
       "      <td>Leader: German sleaze inquiry</td>\n",
       "      <td>Cheerio, boyo</td>\n",
       "      <td>The main recommendations</td>\n",
       "      <td>Has Cubie killed fees?</td>\n",
       "      <td>Has Cubie killed fees?</td>\n",
       "      <td>Has Cubie killed fees?</td>\n",
       "      <td>...</td>\n",
       "      <td>On the critical list</td>\n",
       "      <td>The timing of their lives</td>\n",
       "      <td>Dear doctor</td>\n",
       "      <td>Irish court halts IRA man's extradition to Nor...</td>\n",
       "      <td>Burundi peace initiative fades after rebels re...</td>\n",
       "      <td>PE points the way forward to the ECB</td>\n",
       "      <td>Campaigners keep up pressure on Nazi war crime...</td>\n",
       "      <td>Jane Ratcliffe</td>\n",
       "      <td>Yet more things you wouldn't know without the ...</td>\n",
       "      <td>Millennium bug fails to bite</td>\n",
       "    </tr>\n",
       "    <tr>\n",
       "      <th>2</th>\n",
       "      <td>2000-01-05</td>\n",
       "      <td>0</td>\n",
       "      <td>Coventry caught on counter by Flo</td>\n",
       "      <td>United's rivals on the road to Rio</td>\n",
       "      <td>Thatcher issues defence before trial by video</td>\n",
       "      <td>Police help Smith lay down the law at Everton</td>\n",
       "      <td>Tale of Trautmann bears two more retellings</td>\n",
       "      <td>England on the rack</td>\n",
       "      <td>Pakistan retaliate with call for video of Walsh</td>\n",
       "      <td>Cullinan continues his Cape monopoly</td>\n",
       "      <td>...</td>\n",
       "      <td>South Melbourne (Australia)</td>\n",
       "      <td>Necaxa (Mexico)</td>\n",
       "      <td>Real Madrid (Spain)</td>\n",
       "      <td>Raja Casablanca (Morocco)</td>\n",
       "      <td>Corinthians (Brazil)</td>\n",
       "      <td>Tony's pet project</td>\n",
       "      <td>Al Nassr (Saudi Arabia)</td>\n",
       "      <td>Ideal Holmes show</td>\n",
       "      <td>Pinochet leaves hospital after tests</td>\n",
       "      <td>Useful links</td>\n",
       "    </tr>\n",
       "    <tr>\n",
       "      <th>3</th>\n",
       "      <td>2000-01-06</td>\n",
       "      <td>1</td>\n",
       "      <td>Pilgrim knows how to progress</td>\n",
       "      <td>Thatcher facing ban</td>\n",
       "      <td>McIlroy calls for Irish fighting spirit</td>\n",
       "      <td>Leicester bin stadium blueprint</td>\n",
       "      <td>United braced for Mexican wave</td>\n",
       "      <td>Auntie back in fashion, even if the dress look...</td>\n",
       "      <td>Shoaib appeal goes to the top</td>\n",
       "      <td>Hussain hurt by 'shambles' but lays blame on e...</td>\n",
       "      <td>...</td>\n",
       "      <td>Putin admits Yeltsin quit to give him a head s...</td>\n",
       "      <td>BBC worst hit as digital TV begins to bite</td>\n",
       "      <td>How much can you pay for...</td>\n",
       "      <td>Christmas glitches</td>\n",
       "      <td>Upending a table, Chopping a line and Scoring ...</td>\n",
       "      <td>Scientific evidence 'unreliable', defence claims</td>\n",
       "      <td>Fusco wins judicial review in extradition case</td>\n",
       "      <td>Rebels thwart Russian advance</td>\n",
       "      <td>Blair orders shake-up of failing NHS</td>\n",
       "      <td>Lessons of law's hard heart</td>\n",
       "    </tr>\n",
       "    <tr>\n",
       "      <th>4</th>\n",
       "      <td>2000-01-07</td>\n",
       "      <td>1</td>\n",
       "      <td>Hitches and Horlocks</td>\n",
       "      <td>Beckham off but United survive</td>\n",
       "      <td>Breast cancer screening</td>\n",
       "      <td>Alan Parker</td>\n",
       "      <td>Guardian readers: are you all whingers?</td>\n",
       "      <td>Hollywood Beyond</td>\n",
       "      <td>Ashes and diamonds</td>\n",
       "      <td>Whingers - a formidable minority</td>\n",
       "      <td>...</td>\n",
       "      <td>Most everywhere:  UDIs</td>\n",
       "      <td>Most wanted:  Chloe lunettes</td>\n",
       "      <td>Return of the cane 'completely off the agenda'</td>\n",
       "      <td>From Sleepy Hollow to Greeneland</td>\n",
       "      <td>Blunkett outlines vision for over 11s</td>\n",
       "      <td>Embattled Dobson attacks 'play now, pay later'...</td>\n",
       "      <td>Doom and the Dome</td>\n",
       "      <td>What is the north-south divide?</td>\n",
       "      <td>Aitken released from jail</td>\n",
       "      <td>Gone aloft</td>\n",
       "    </tr>\n",
       "  </tbody>\n",
       "</table>\n",
       "<p>5 rows × 27 columns</p>\n",
       "</div>"
      ],
      "text/plain": [
       "         Date  Label                                               Top1  \\\n",
       "0  2000-01-03      0  A 'hindrance to operations': extracts from the...   \n",
       "1  2000-01-04      0                                          Scorecard   \n",
       "2  2000-01-05      0                  Coventry caught on counter by Flo   \n",
       "3  2000-01-06      1                      Pilgrim knows how to progress   \n",
       "4  2000-01-07      1                               Hitches and Horlocks   \n",
       "\n",
       "                                 Top2  \\\n",
       "0                           Scorecard   \n",
       "1                 The best lake scene   \n",
       "2  United's rivals on the road to Rio   \n",
       "3                 Thatcher facing ban   \n",
       "4      Beckham off but United survive   \n",
       "\n",
       "                                            Top3  \\\n",
       "0                Hughes' instant hit buoys Blues   \n",
       "1                  Leader: German sleaze inquiry   \n",
       "2  Thatcher issues defence before trial by video   \n",
       "3        McIlroy calls for Irish fighting spirit   \n",
       "4                        Breast cancer screening   \n",
       "\n",
       "                                            Top4  \\\n",
       "0       Jack gets his skates on at ice-cold Alex   \n",
       "1                                  Cheerio, boyo   \n",
       "2  Police help Smith lay down the law at Everton   \n",
       "3                Leicester bin stadium blueprint   \n",
       "4                                    Alan Parker   \n",
       "\n",
       "                                          Top5  \\\n",
       "0       Chaos as Maracana builds up for United   \n",
       "1                     The main recommendations   \n",
       "2  Tale of Trautmann bears two more retellings   \n",
       "3               United braced for Mexican wave   \n",
       "4      Guardian readers: are you all whingers?   \n",
       "\n",
       "                                                Top6  \\\n",
       "0  Depleted Leicester prevail as Elliott spoils E...   \n",
       "1                             Has Cubie killed fees?   \n",
       "2                                England on the rack   \n",
       "3  Auntie back in fashion, even if the dress look...   \n",
       "4                                   Hollywood Beyond   \n",
       "\n",
       "                                              Top7  \\\n",
       "0                 Hungry Spurs sense rich pickings   \n",
       "1                           Has Cubie killed fees?   \n",
       "2  Pakistan retaliate with call for video of Walsh   \n",
       "3                    Shoaib appeal goes to the top   \n",
       "4                               Ashes and diamonds   \n",
       "\n",
       "                                                Top8  ...  \\\n",
       "0                  Gunners so wide of an easy target  ...   \n",
       "1                             Has Cubie killed fees?  ...   \n",
       "2               Cullinan continues his Cape monopoly  ...   \n",
       "3  Hussain hurt by 'shambles' but lays blame on e...  ...   \n",
       "4                   Whingers - a formidable minority  ...   \n",
       "\n",
       "                                               Top16  \\\n",
       "0           Flintoff injury piles on woe for England   \n",
       "1                               On the critical list   \n",
       "2                        South Melbourne (Australia)   \n",
       "3  Putin admits Yeltsin quit to give him a head s...   \n",
       "4                             Most everywhere:  UDIs   \n",
       "\n",
       "                                               Top17  \\\n",
       "0  Hunters threaten Jospin with new battle of the...   \n",
       "1                          The timing of their lives   \n",
       "2                                    Necaxa (Mexico)   \n",
       "3         BBC worst hit as digital TV begins to bite   \n",
       "4                       Most wanted:  Chloe lunettes   \n",
       "\n",
       "                                            Top18  \\\n",
       "0             Kohl's successor drawn into scandal   \n",
       "1                                     Dear doctor   \n",
       "2                             Real Madrid (Spain)   \n",
       "3                     How much can you pay for...   \n",
       "4  Return of the cane 'completely off the agenda'   \n",
       "\n",
       "                                               Top19  \\\n",
       "0               The difference between men and women   \n",
       "1  Irish court halts IRA man's extradition to Nor...   \n",
       "2                          Raja Casablanca (Morocco)   \n",
       "3                                 Christmas glitches   \n",
       "4                   From Sleepy Hollow to Greeneland   \n",
       "\n",
       "                                               Top20  \\\n",
       "0                Sara Denver, nurse turned solicitor   \n",
       "1  Burundi peace initiative fades after rebels re...   \n",
       "2                               Corinthians (Brazil)   \n",
       "3  Upending a table, Chopping a line and Scoring ...   \n",
       "4              Blunkett outlines vision for over 11s   \n",
       "\n",
       "                                               Top21  \\\n",
       "0     Diana's landmine crusade put Tories in a panic   \n",
       "1               PE points the way forward to the ECB   \n",
       "2                                 Tony's pet project   \n",
       "3   Scientific evidence 'unreliable', defence claims   \n",
       "4  Embattled Dobson attacks 'play now, pay later'...   \n",
       "\n",
       "                                               Top22  \\\n",
       "0  Yeltsin's resignation caught opposition flat-f...   \n",
       "1  Campaigners keep up pressure on Nazi war crime...   \n",
       "2                            Al Nassr (Saudi Arabia)   \n",
       "3     Fusco wins judicial review in extradition case   \n",
       "4                                  Doom and the Dome   \n",
       "\n",
       "                             Top23  \\\n",
       "0                 Russian roulette   \n",
       "1                   Jane Ratcliffe   \n",
       "2                Ideal Holmes show   \n",
       "3    Rebels thwart Russian advance   \n",
       "4  What is the north-south divide?   \n",
       "\n",
       "                                               Top24  \\\n",
       "0                                           Sold out   \n",
       "1  Yet more things you wouldn't know without the ...   \n",
       "2               Pinochet leaves hospital after tests   \n",
       "3               Blair orders shake-up of failing NHS   \n",
       "4                          Aitken released from jail   \n",
       "\n",
       "                          Top25  \n",
       "0            Recovering a title  \n",
       "1  Millennium bug fails to bite  \n",
       "2                  Useful links  \n",
       "3   Lessons of law's hard heart  \n",
       "4                    Gone aloft  \n",
       "\n",
       "[5 rows x 27 columns]"
      ]
     },
     "execution_count": 43,
     "metadata": {},
     "output_type": "execute_result"
    }
   ],
   "source": [
    "df.head(5)"
   ]
  },
  {
   "cell_type": "markdown",
   "metadata": {
    "colab_type": "text",
    "id": "gFZh_ONwCsFT"
   },
   "source": [
    "*Note: Di sini 'Label' adalah atribut biner yang terdiri dari \n",
    "0 - harga saham turun atau tetap sama, \n",
    "1 - Harga saham naik.*"
   ]
  },
  {
   "cell_type": "code",
   "execution_count": 18,
   "metadata": {
    "colab": {},
    "colab_type": "code",
    "id": "0IWzslypBqmW"
   },
   "outputs": [],
   "source": [
    "import matplotlib.pyplot as plt\n",
    "import seaborn as sns\n",
    "%matplotlib inline"
   ]
  },
  {
   "cell_type": "code",
   "execution_count": 19,
   "metadata": {
    "colab": {
     "base_uri": "https://localhost:8080/",
     "height": 496
    },
    "colab_type": "code",
    "id": "Dxiv0CcxBqjI",
    "outputId": "a26516ad-2148-4cfb-86da-389e3cfb461c"
   },
   "outputs": [
    {
     "data": {
      "image/png": "[encoded data removed]",
      "text/plain": [
       "<Figure size 432x288 with 1 Axes>"
      ]
     },
     "metadata": {
      "needs_background": "light"
     },
     "output_type": "display_data"
    }
   ],
   "source": [
    "sns.countplot(x='Label', data=df)\n",
    "plt.xlabel('Stock Sentiments (0-Down/Same, 1-Up)')\n",
    "plt.ylabel('Count')\n",
    "plt.show()"
   ]
  },
  {
   "cell_type": "markdown",
   "metadata": {
    "colab_type": "text",
    "id": "NWBuNTqxJuRp"
   },
   "source": [
    "# **Data Cleaning and Preprocessing**"
   ]
  },
  {
   "cell_type": "code",
   "execution_count": 20,
   "metadata": {
    "colab": {
     "base_uri": "https://localhost:8080/",
     "height": 34
    },
    "colab_type": "code",
    "id": "ABgH-wfdO9EN",
    "outputId": "4055ad69-f852-46c1-da85-b497cc105525"
   },
   "outputs": [
    {
     "name": "stdout",
     "output_type": "stream",
     "text": [
      "(4101, 27)\n"
     ]
    }
   ],
   "source": [
    "print(df.shape)"
   ]
  },
  {
   "cell_type": "code",
   "execution_count": 22,
   "metadata": {
    "colab": {
     "base_uri": "https://localhost:8080/",
     "height": 514
    },
    "colab_type": "code",
    "id": "nF_JZIWrO6xO",
    "outputId": "17b72278-baf1-4366-a3e5-82985990614c"
   },
   "outputs": [
    {
     "data": {
      "text/plain": [
       "Date     False\n",
       "Label    False\n",
       "Top1     False\n",
       "Top2     False\n",
       "Top3     False\n",
       "Top4     False\n",
       "Top5     False\n",
       "Top6     False\n",
       "Top7     False\n",
       "Top8     False\n",
       "Top9     False\n",
       "Top10    False\n",
       "Top11    False\n",
       "Top12    False\n",
       "Top13    False\n",
       "Top14    False\n",
       "Top15    False\n",
       "Top16    False\n",
       "Top17    False\n",
       "Top18    False\n",
       "Top19    False\n",
       "Top20    False\n",
       "Top21    False\n",
       "Top22    False\n",
       "Top23     True\n",
       "Top24     True\n",
       "Top25     True\n",
       "dtype: bool"
      ]
     },
     "execution_count": 22,
     "metadata": {},
     "output_type": "execute_result"
    }
   ],
   "source": [
    "# Menemukan nilai NaN apa pun\n",
    "df.isna().any()"
   ]
  },
  {
   "cell_type": "code",
   "execution_count": 23,
   "metadata": {
    "colab": {
     "base_uri": "https://localhost:8080/",
     "height": 34
    },
    "colab_type": "code",
    "id": "u6aQAfSPPBpd",
    "outputId": "9609e9ac-fc66-485e-90db-46cc00822d8b"
   },
   "outputs": [
    {
     "name": "stdout",
     "output_type": "stream",
     "text": [
      "(4098, 27)\n"
     ]
    }
   ],
   "source": [
    "# Drop nilai NaN\n",
    "df.dropna(inplace=True)\n",
    "print(df.shape)"
   ]
  },
  {
   "cell_type": "code",
   "execution_count": 24,
   "metadata": {
    "colab": {},
    "colab_type": "code",
    "id": "XbhXg-iHPN-X"
   },
   "outputs": [],
   "source": [
    "df_copy = df.copy()"
   ]
  },
  {
   "cell_type": "code",
   "execution_count": 25,
   "metadata": {
    "colab": {},
    "colab_type": "code",
    "id": "d6DnrYCGPLOI"
   },
   "outputs": [],
   "source": [
    "df_copy.reset_index(inplace=True)"
   ]
  },
  {
   "cell_type": "code",
   "execution_count": 44,
   "metadata": {
    "colab": {
     "base_uri": "https://localhost:8080/",
     "height": 34
    },
    "colab_type": "code",
    "id": "MMNzajXxMkdh",
    "outputId": "fa4057f0-c7ce-4c12-aba0-ed92e79d3747"
   },
   "outputs": [
    {
     "name": "stdout",
     "output_type": "stream",
     "text": [
      "Train size: (3972, 28), Test size: (378, 28)\n"
     ]
    }
   ],
   "source": [
    "# Memisahkan dataset menjadi train set dan test set\n",
    "train = df_copy[df_copy['Date'] < '20150101']\n",
    "test = df_copy[df_copy['Date'] > '20141231']\n",
    "print('Train size: {}, Test size: {}'.format(train.shape, test.shape))"
   ]
  },
  {
   "cell_type": "code",
   "execution_count": 46,
   "metadata": {
    "colab": {
     "base_uri": "https://localhost:8080/",
     "height": 105
    },
    "colab_type": "code",
    "id": "bVChdUOOQGd5",
    "outputId": "8ac15149-8d67-4455-842d-ddc2bf5598cd"
   },
   "outputs": [
    {
     "data": {
      "text/plain": [
       "Index(['index', 'Date', 'Label', 'Top1', 'Top2', 'Top3', 'Top4', 'Top5',\n",
       "       'Top6', 'Top7', 'Top8', 'Top9', 'Top10', 'Top11', 'Top12', 'Top13',\n",
       "       'Top14', 'Top15', 'Top16', 'Top17', 'Top18', 'Top19', 'Top20', 'Top21',\n",
       "       'Top22', 'Top23', 'Top24', 'Top25'],\n",
       "      dtype='object')"
      ]
     },
     "execution_count": 46,
     "metadata": {},
     "output_type": "execute_result"
    }
   ],
   "source": [
    "train.columns"
   ]
  },
  {
   "cell_type": "code",
   "execution_count": 28,
   "metadata": {
    "colab": {},
    "colab_type": "code",
    "id": "37hwWUT8OoDI"
   },
   "outputs": [],
   "source": [
    "# memisahkan dataset\n",
    "y_train = train['Label']\n",
    "train = train.iloc[:, 3:28]\n",
    "y_test = test['Label']\n",
    "test = test.iloc[:, 3:28]"
   ]
  },
  {
   "cell_type": "code",
   "execution_count": 30,
   "metadata": {
    "colab": {
     "base_uri": "https://localhost:8080/",
     "height": 52
    },
    "colab_type": "code",
    "id": "i8Vsv35IQby-",
    "outputId": "905c35a5-19f3-4a74-bf35-1f07825eaf2c"
   },
   "outputs": [
    {
     "name": "stderr",
     "output_type": "stream",
     "text": [
      "[nltk_data] Downloading package stopwords to\n",
      "[nltk_data]     C:\\Users\\Legion5\\AppData\\Roaming\\nltk_data...\n",
      "[nltk_data]   Unzipping corpora\\stopwords.zip.\n"
     ]
    }
   ],
   "source": [
    "import nltk\n",
    "nltk.download('stopwords')\n",
    "from nltk.corpus import stopwords\n",
    "from nltk.stem import PorterStemmer"
   ]
  },
  {
   "cell_type": "code",
   "execution_count": 31,
   "metadata": {
    "colab": {},
    "colab_type": "code",
    "id": "VD4zrtcRRBXH"
   },
   "outputs": [],
   "source": [
    "# Menghapus tanda baca dan karakter khusus dari teks\n",
    "train.replace(to_replace='[^a-zA-Z]', value=' ', regex=True, inplace=True)\n",
    "test.replace(to_replace='[^a-zA-Z]', value=' ', regex=True, inplace=True)"
   ]
  },
  {
   "cell_type": "code",
   "execution_count": 32,
   "metadata": {
    "colab": {},
    "colab_type": "code",
    "id": "CBcNS6YOSHW-"
   },
   "outputs": [],
   "source": [
    "# Mengganti nama kolom\n",
    "new_columns = [str(i) for i in range(0,25)]\n",
    "train.columns = new_columns\n",
    "test.columns = new_columns"
   ]
  },
  {
   "cell_type": "code",
   "execution_count": 33,
   "metadata": {
    "colab": {},
    "colab_type": "code",
    "id": "s_Rv1U-5TQdm"
   },
   "outputs": [],
   "source": [
    "# Mengubah seluruh teks menjadi huruf kecil\n",
    "for i in new_columns:\n",
    "  train[i] = train[i].str.lower()\n",
    "  test[i] = test[i].str.lower()"
   ]
  },
  {
   "cell_type": "code",
   "execution_count": 52,
   "metadata": {
    "colab": {},
    "colab_type": "code",
    "id": "Zb6t4r20UGOP"
   },
   "outputs": [],
   "source": [
    "# Bergabung dengan semua kolom\n",
    "train_headlines = []\n",
    "test_headlines = []\n",
    "\n",
    "for row in range(0, train.shape[0]):\n",
    "  train_headlines.append(' '.join(str(x) for x in train.iloc[row, 0:25]))\n",
    "\n",
    "for row in range(0, test.shape[0]):\n",
    "  test_headlines.append(' '.join(str(x) for x in test.iloc[row, 0:25]))"
   ]
  },
  {
   "cell_type": "code",
   "execution_count": 55,
   "metadata": {
    "colab": {
     "base_uri": "https://localhost:8080/",
     "height": 54
    },
    "colab_type": "code",
    "id": "A-mlVdUdVUHu",
    "outputId": "f8cfbb91-ac4e-4cf3-9e8a-eb33e9721dc5"
   },
   "outputs": [
    {
     "data": {
      "text/plain": [
       "\"0 2000-01-03 0 A 'hindrance to operations': extracts from the leaked reports Scorecard Hughes' instant hit buoys Blues Jack gets his skates on at ice-cold Alex Chaos as Maracana builds up for United Depleted Leicester prevail as Elliott spoils Everton's party Hungry Spurs sense rich pickings Gunners so wide of an easy target Derby raise a glass to Strupar's debut double Southgate strikes, Leeds pay the penalty Hammers hand Robson a youthful lesson Saints party like it's 1999 Wear wolves have turned into lambs Stump mike catches testy Gough's taunt Langer escapes to hit 167 Flintoff injury piles on woe for England Hunters threaten Jospin with new battle of the Somme Kohl's successor drawn into scandal The difference between men and women Sara Denver, nurse turned solicitor Diana's landmine crusade put Tories in a panic Yeltsin's resignation caught opposition flat-footed\""
      ]
     },
     "execution_count": 55,
     "metadata": {},
     "output_type": "execute_result"
    }
   ],
   "source": [
    "train_headlines[0]"
   ]
  },
  {
   "cell_type": "code",
   "execution_count": 56,
   "metadata": {
    "colab": {
     "base_uri": "https://localhost:8080/",
     "height": 54
    },
    "colab_type": "code",
    "id": "3Dcfd18qVlSO",
    "outputId": "7d3f83d5-dbc3-4b05-c35e-beff886d8a94"
   },
   "outputs": [
    {
     "data": {
      "text/plain": [
       "'3723 2015-01-02 1 Most cases of cancer are the result of sheer bad luck rather than unhealthy lifestyles, diet or even inherited genes, new research suggests. Random mutations that occur in DNA when cells divide are responsible for two thirds of adult cancers across a wide range of tissues. Iran dismissed United States efforts to fight Islamic State as a ploy to advance U.S. policies in the region: \"The reality is that the United States is not acting to eliminate Daesh. They are not even interested in weakening Daesh, they are only interested in managing it\" Poll: One in 8 Germans would join anti-Muslim marches UK royal family\\'s Prince Andrew named in US lawsuit over underage sex allegations Some 40 asylum-seekers refused to leave the bus when they arrived at their destination in rural northern Sweden, demanding that they be taken back to Malm or \"some big city\". Pakistani boat blows self up after India navy chase. All four people on board the vessel from near the Pakistani port city of Karachi are believed to have been killed in the dramatic episode in the Arabian Sea on New Year\\'s Eve, according to India\\'s defence ministry. Sweden hit by third mosque arson attack in a week 940 cars set alight during French New Year Salaries for top CEOs rose twice as fast as average Canadian since recession: study Norway violated equal-pay law, judge says: Judge finds consulate employee was unjustly paid $30,000 less than her male counterpart Imam wants radical recruiters of Muslim youth in Canada identified and dealt with Saudi Arabia beheaded 83 people in 2014, the most in years \\'A living hell\\' for slaves on remote South Korean islands - Slavery thrives on this chain of rural islands off South Korea\\'s rugged southwest coast, nurtured by a long history of exploitation and the demands of trying to squeeze a living from the sea. Worlds 400 richest get richer, adding $92bn in 2014 Rental Car Stereos Infringe Copyright, Music Rights Group Says Ukrainian minister threatens TV channel with closure for airing Russian entertainers Palestinian President Mahmoud Abbas has entered into his most serious confrontation yet with Israel by signing onto the International Criminal Court. His decision on Wednesday gives the court jurisdiction over crimes committed in Palestinian lands. Israeli security center publishes names of 50 killed terrorists \\'concealed by Hamas\\' The year 2014 was the deadliest year yet in Syria\\'s four-year conflict, with over 76,000 killed A Secret underground complex built by the Nazis that may have been used for the development of WMDs, including a nuclear bomb, has been uncovered in Austria. Restrictions on Web Freedom a Major Global Issue in 2015 Austrian journalist Erich Mchel delivered a presentation in Hamburg at the annual meeting of the Chaos Computer Club on Monday December 29, detailing the various locations where the US NSA has been actively collecting and processing electronic intelligence in Vienna.'"
      ]
     },
     "execution_count": 56,
     "metadata": {},
     "output_type": "execute_result"
    }
   ],
   "source": [
    "test_headlines[0]"
   ]
  },
  {
   "cell_type": "code",
   "execution_count": 57,
   "metadata": {
    "colab": {},
    "colab_type": "code",
    "id": "Wp4tgCR1V-Bo"
   },
   "outputs": [],
   "source": [
    "# Membuat kumpulan train dataset\n",
    "ps = PorterStemmer()\n",
    "train_corpus = []\n",
    "\n",
    "for i in range(0, len(train_headlines)):\n",
    "  \n",
    "  # Tokenizing judul berita dengan kata-kata\n",
    "  words = train_headlines[i].split()\n",
    "\n",
    "  # Menghapus stopwords\n",
    "  words = [word for word in words if word not in set(stopwords.words('english'))]\n",
    "\n",
    "  # Merangkai kata-kata\n",
    "  words = [ps.stem(word) for word in words]\n",
    "\n",
    "  # Joining the stemmed words\n",
    "  headline = ' '.join(words)\n",
    "\n",
    "  # Membangun kumpulan judul berita\n",
    "  train_corpus.append(headline)"
   ]
  },
  {
   "cell_type": "code",
   "execution_count": 38,
   "metadata": {
    "colab": {},
    "colab_type": "code",
    "id": "mS94s0zsYhkv"
   },
   "outputs": [],
   "source": [
    "# Creating corpus of test dataset\n",
    "test_corpus = []\n",
    "\n",
    "for i in range(0, len(test_headlines)):\n",
    "  \n",
    "   # Tokenizing judul berita dengan kata-kata\n",
    "  words = test_headlines[i].split()\n",
    "\n",
    "  # Menghapus stopwords\n",
    "  words = [word for word in words if word not in set(stopwords.words('english'))]\n",
    "\n",
    "  # Stemming the words\n",
    "  words = [ps.stem(word) for word in words]\n",
    "\n",
    "  # Joining the stemmed words\n",
    "  headline = ' '.join(words)\n",
    "\n",
    "  # Membangun kumpulan judul berita\n",
    "  test_corpus.append(headline)"
   ]
  },
  {
   "cell_type": "code",
   "execution_count": 60,
   "metadata": {
    "colab": {
     "base_uri": "https://localhost:8080/",
     "height": 214
    },
    "colab_type": "code",
    "id": "V-yWTBMHZLF3",
    "outputId": "06f028c6-c894-4e29-f68b-1aa0dc218586"
   },
   "outputs": [
    {
     "data": {
      "text/plain": [
       "[\"0 2000-01-03 0 a 'hindranc operations': extract leak report scorecard hughes' instant hit buoy blue jack get skate ice-cold alex chao maracana build unit deplet leicest prevail elliott spoil everton' parti hungri spur sens rich pick gunner wide easi target derbi rais glass strupar' debut doubl southgat strikes, leed pay penalti hammer hand robson youth lesson saint parti like 1999 wear wolv turn lamb stump mike catch testi gough' taunt langer escap hit 167 flintoff injuri pile woe england hunter threaten jospin new battl somm kohl' successor drawn scandal the differ men women sara denver, nurs turn solicitor diana' landmin crusad put tori panic yeltsin' resign caught opposit flat-foot\",\n",
       " \"1 2000-01-04 0 scorecard the best lake scene leader: german sleaz inquiri cheerio, boyo the main recommend ha cubi kill fees? ha cubi kill fees? ha cubi kill fees? hopkin 'furious' foster' lack hannib appetit ha cubi kill fees? a tale two tail i say i like i like i say elbows, eye nippl task forc assess risk asteroid collis how i found last on critic list the time live dear doctor irish court halt ira man' extradit northern ireland burundi peac initi fade rebel reject mandela mediat pe point way forward ecb campaign keep pressur nazi war crime suspect\",\n",
       " \"2 2000-01-05 0 coventri caught counter flo united' rival road rio thatcher issu defenc trial video polic help smith lay law everton tale trautmann bear two retel england rack pakistan retali call video walsh cullinan continu cape monopoli mcgrath put india miseri blair witch bandwagon roll pele turn heat ferguson parti divid kohl slush fund scandal manchest unit (england) women record south pole walk vasco da gama (brazil) south melbourn (australia) necaxa (mexico) real madrid (spain) raja casablanca (morocco) corinthian (brazil) tony' pet project al nassr (saudi arabia)\",\n",
       " \"3 2000-01-06 1 pilgrim know progress thatcher face ban mcilroy call irish fight spirit leicest bin stadium blueprint unit brace mexican wave aunti back fashion, even dress look bit tatti shoaib appeal goe top hussain hurt 'shambles' lay blame earlier damag england' decad disast reveng sweet jubil cronj our choice, profil former us nazi parti offic william pierc new evid show record war crime suspect investig the rise supernerd written bodi putin admit yeltsin quit give head start bbc worst hit digit tv begin bite how much pay for... christma glitch upend table, chop line score goal scientif evid 'unreliable', defenc claim fusco win judici review extradit case\",\n",
       " \"4 2000-01-07 1 hitch horlock beckham unit surviv breast cancer screen alan parker guardian readers: whingers? hollywood beyond ash diamond whinger - formid minor alan parker - part two thuggery, toxin tie met face fresh attack race crime everton fan top racist 'leagu shame' our breasts, russia' new boss extrem strang histori alway forev most everywhere: udi most wanted: chloe lunett return cane 'complet agenda' from sleepi hollow greeneland blunkett outlin vision 11 embattl dobson attack 'play now, pay later' livingston doom dome\",\n",
       " \"5 2000-01-10 1 fifth round draw bbc unveil secret weapon rate war: south melbourn second divis round-up european round-up third divis round-up welfar could claim killi tie caley thistl land celtic ferguson put brave face rio meltdown southgat strike form pre-empt penalti second bite wolv scallywag chelsea look bench england miss trick centurion radio time england bat collaps faith futur youth helm goe unit stave inevit time warner aol merg keep wage global war desktop icons, no 1: the qwerti keyboard the sec' file the low down: workplac bulli met 'not equipped' solv murder\",\n",
       " \"6 2000-01-11 1 man utd 2 - 0 south melbourn how north atlant drift could carri away old firm buoyant bbc show brazil final live tranmer given all-clear cup unit sit poorli doc queen' park peril cloud hampden futur waugh hit shoaib repriev knight make case butcher' place scoreboard bond enough 007 star brosnan you can't help peopl blake blast liverpool german parti leader took cash arm dealer children' book week how low go? i'd like write split vote may offer natwest takeov escap teach stayers, sprinter a lesson respect 'now everyon know good school' 'what' wrong give teacher applause?' 'when i realis i'd i felt sick shock'\",\n",
       " \"7 2000-01-12 0 newcastl seek new footbal supremo liverpool aim speed heskey deal highland vote edwards' power play suffer new blow chelsea gambl weah taylor settl etern tie tenth top-flight club fall hodg final word charlton charg top german parti chief resist call resign the beach made man leo 'pariah' irv sue holocaust author jack straw' full common speech batti busi book frock consciousness: matter heroin wearing? arm pakistan like-mind is co i black? megabucks, out luck, what the...? cabinet battl rage ethic foreign polici radio station becom talk sport a better breed dad childish thing\",\n",
       " \"8 2000-01-13 1 bungl offici carpet and red raw corner 'killer' mackenzi unit put shirt £30m england plan home nations' reviv donald pois quit test scene adam stare abyss money money money tyson enter britain ga chamber claim impossible, say irv union take mayor vote row court win ticket the end affair irv deni deliber portray hitler 'merciful' gallant fulham flunk shoot-out hill start leav tranmer one step wembley weah strike right cue dinner plates, microwav oven toast no one simultan free yet live fear more doubt pakistan arm export anoth fine mess cybershopping: sportswear how much pay . . . hillari hold the late show\",\n",
       " \"9 2000-01-14 1 pompey plump puli work ethic roma fire rolex refere prenton park two told take break ok, i figur rio i'm still no1 under-10 chelsea tune weah' world top storey await cottag west indi unveil fieri next gener donald' kill field await edgi england cronj low run end captainci high counti lose murali shoaib final tell tale two citi tv rival jostl soccer club stake blatter: unit gave boost world cup bid sunderland recoveri bad news booki england' main fault? they tri hard schreiber: the man would toppl king joe ashton' letter resign ashton resign wednesday board stravinsky: the rake' progress the best waterfront scene incompetence, insult injuri find time\"]"
      ]
     },
     "execution_count": 60,
     "metadata": {},
     "output_type": "execute_result"
    }
   ],
   "source": [
    "train_corpus[0:10]"
   ]
  },
  {
   "cell_type": "code",
   "execution_count": 61,
   "metadata": {
    "colab": {
     "base_uri": "https://localhost:8080/",
     "height": 214
    },
    "colab_type": "code",
    "id": "TAuiyeUjZhZ8",
    "outputId": "86f0e836-8ea2-4d4a-ff02-3e55ef968564"
   },
   "outputs": [
    {
     "data": {
      "text/plain": [
       "['case cancer result sheer bad luck rather unhealthi lifestyl diet even inherit gene new research suggest random mutat occur dna cell divid respons two third adult cancer across wide rang tissu iran dismiss unit state effort fight islam state ploy advanc u polici region realiti unit state act elimin daesh even interest weaken daesh interest manag poll one german would join anti muslim march uk royal famili princ andrew name us lawsuit underag sex alleg asylum seeker refus leav bu arriv destin rural northern sweden demand taken back malm big citi pakistani boat blow self india navi chase four peopl board vessel near pakistani port citi karachi believ kill dramat episod arabian sea new year eve accord india defenc ministri sweden hit third mosqu arson attack week car set alight french new year salari top ceo rose twice fast averag canadian sinc recess studi norway violat equal pay law judg say judg find consul employe unjustli paid less male counterpart imam want radic recruit muslim youth canada identifi dealt saudi arabia behead peopl year live hell slave remot south korean island slaveri thrive chain rural island south korea rug southwest coast nurtur long histori exploit demand tri squeez live sea world richest get richer ad bn rental car stereo infring copyright music right group say ukrainian minist threaten tv channel closur air russian entertain palestinian presid mahmoud abba enter seriou confront yet israel sign onto intern crimin court decis wednesday give court jurisdict crime commit palestinian land isra secur center publish name kill terrorist conceal hama year deadliest year yet syria four year conflict kill secret underground complex built nazi may use develop wmd includ nuclear bomb uncov austria restrict web freedom major global issu austrian journalist erich mchel deliv present hamburg annual meet chao comput club monday decemb detail variou locat us nsa activ collect process electron intellig vienna thousand ukrain nationalist march kiev china new year resolut harvest execut prison organ author pull plug russia last polit independ tv station',\n",
       " 'moscow gt beij high speed train reduc trip time hour current day two ancient tomb discov egypt sunday one repres symbol burial site god osiri anoth claim previous unknown pharaon tomb china complain pyongyang n korean soldier kill villag world news scotland head toward fossil fuel free renew energi project combin energi save could decarbonis countri power sector need see phase convent gener scotland prime minist shinzo abe said monday express remors japan action world war ii highlight countri bid contribut activ world peac statement mark th anniversari war end august sex slave centr princ andrew scandal fled australia teen gay rel hama founder face deport canada christian convert whose five uncl jail israel terror activ say hell kill forc return west bank number femal drug addict iran almost doubl sinc start age decad search causeway great pyramid egypt found india lost tiger lizard squad hack soni huge market scheme launch lizard stresser paid hack servic russia may face chao extra sanction impos germani saudi air land forc carri attack isi within territori isil reportedli set bank attempt legitimatis nation state israel brand anti assimil group lehava terrorist islam state approv budget billion expect surplu million open islam bank mosul budget reportedli includ monthli wage poor disabl famili individu kill airstrik carri us led coalit forc iceland withdraw eu applic lift capit control blackfield capit founder goe miss valu rubl thing vanish russia moscow hedg fund chief execut disappear along money firm account rocket stage crash back earth rural chines villag dead aircraft bomb greek tanker libyan port belgian murder frank van den bleeken die request belgian murder rapist serv life sentenc allow die lethal inject next sunday follow rule law belgium permit peopl request euthanasia czech presid critic ukrainian pm say yatsenyuk prime minist war vietnames jet join search miss filipino bahamian cargo ship sink franc seek end russia sanction ukrain china scrap rare earth cap',\n",
       " 'us oil fall barrel toyota give away fuel cell patent build game chang car futur young indian coupl grant polic protect rel approv hack death offic refus carri judg order senior figur islam state self declar polic forc syria carri behead found decapit eastern provinc deir al zor fukushima rice pass radiat test st time sinc disast nearli spanish parti guilti financi crime audit court find king abdullah abdic saudi throne taliban command caught network linkedin mexican miss student mayor wife charg organ crime money launder new york time report jame risen refus monday answer basic question court book detail fail cia effort undermin iran nuclear weapon program case becom flashpoint press freedom korea send sweet potato n korea nutrit aid turkey dutch journalist frederik geerdink detain terror propaganda charg kuala lumpur jan islam prohibit marri men homemak famili govern malaysian institut islam understand ikim said iraqi mp iran top gener qassem suleimani save baghdad fall pakistan offer bounti taliban leader thousand indian fled home fight india pakistan spread along km mile stretch border disput region kashmir turkey sack judg oversaw erdogan corrupt probe accus abus author spacex falcon launch recoveri abort next launch window could earli friday cnn american charg botch gambia coup islam state polic offici behead libya ban palestinian countri prevent entri terrorist judici inquiri open franc monday inmat one countri notori prison abl take photo pose drug money contraband upload onto facebook video captur moment cameraman hurl backward film explod firework factori small town colombia syria complain unit nation u republican senat john mccain former french foreign minist bernard kouchner former u diplomat peter galbraith enter countri without visa violat sovereignti test india set make iri biggest telescop ever',\n",
       " 'shot fire french magazin hq bibi netanyahu campaign fund u isi behead street magician entertain crowd syria trick denmark set new world record renew energi product cover countri total electr consumpt wind power isi close school syria leav children without educ un european union want turkey explain human traffick could taken two cargo ship fill migrant countri toward eu without author notic peopl die shoot headquart french satir weekli charli hebdo earth like planet ever discov could cosi home alien life planet name kepler b slightli larger earth circl orang dwarf star bath heat home planet receiv sun new question rais u saudi relationship page u legisl push know alleg saudi role massiv hunt underway gunmen pari terror attack offici hottest year record hottest year record come chines author isol separ famili shanghai stamped victim keep organ allow minut mourn site drag away get emot german anti muslim protest ralli despit merkel plea china encourag environment group sue pollut group work fight pollut judici gain special statu court fee reduc suprem peopl court say unit nation secretari gener ban ki moon say palestin join intern crimin court april st discoveri witnesss mutil bodi feed claim state kill kenya gruesom murder man due testifi icc trial kenya deputi presid william ruto fed accus govern orchestr kill wit radic islam grow threat sub saharan christian report toni blair may face war crime charg iraq delay public chilcot inquiri iraq war made peopl believ toni blair could face war crime charg minist warn benjamin netanyahu say settlement unlik dismantl elect israel pm tasmania move allow corpor sue protest defam indonesia search chief tail section airasia flight qz found flight record insid tail section north korean defector bureau hacker locat shenyang china femal suicid bomber attack polic station istanbul turn syria school religi indoctrin center children depriv educ islam state order school close school reopen curriculum islamic religion replac standard subject ebola vaccin trial halifax far success',\n",
       " 'new charli hebdo issu come next week hard suffer grief fear anyway stupid win ahm merabet cop kill pari attack muslim youngest suspect charli hebdo attack turn grenad thrown mosqu le man west pari danish newspap print charli hebdo cartoon islam muslim politician india offer charli hebdo attack vladimir putin condemn deadli terrorist attack pari confirm moscow readi continu cooper franc battl terror putin also express condol victim famili wish injur speedi recoveri turkey tri hide evid hold turkish leader respons support terrorist group especi islam state iraq syria isi turkish media report danish paper publish muhammad cartoon boost secur two charli hebdo attack locat north franc french imam urg muslim protest pari attack policewoman shot gunman near pari die polic shoot heard outskirt pari offic sever injur nobodi report kill fight syria wednesday first day without casualti three year fierc winter storm quell violenc time crack islamophobia turkey erdogan tell eu thousand europ hold pen solidar terrorist attack journalist race show solidar charli hebdo terror attack antibiot us discoveri label game changer world medicin charli hebdo attack condemn saudi arabia iran arab leagu mani muslim state well union islam organ franc brisban man wear stupid shirt stand lnp elect campaign arrest offic public nuisanc fourth russian gener commit suicid less year bear startl similar least three recent case retir russian gener commit suicid last year meteorit turn night day bucharest romania isra doctor implant syrian man titanium jaw pioneer procedur unusu metal recov ancient greek shipwreck ingot found yr old wreck metal call orichalcum legendari metal philosoph plato attribut atlanti noth similar ever found knew orichalcum ancient text amp ornament object young mother let terrorist charli hebdo build threat daughter',\n",
       " 'muslim politician india offer charli hebdo attack book incit violenc russia list transsexu transgend peopl among longer qualifi drive licenc french govern donat million ensur charli hebdo live hezbollah secretari gener sayi hassan nasrallah action takfiri group like al qaeda islam state offend prophet mohammad charli hebdo cartoon mock charli hebdo hunt shot fire polic chase car possibl hostag taken islam state brag pari tomorrow britain america wake charli hebdo attack secularist group seek end canada blasphemi law saudi arabia flog man time insult religion facebook websit town near pari hack replac isi flag indian govern fire employe skip work year egypt presid call revolut islam uk religi divers ever time number peopl religion time high britain mi chief warn al qaeda syria plan mass attack west top iranian cleric condemn pari shoot strongli condemn terrorist attack franc believ islam allow kill innoc peopl pari syria iraq yemen paksitan afghanistan ayatollah seyi ahmad khatami said us send highest level deleg decad havana later month talk migrat normal relat countri decad cold war hostil israel recogn armenian genocid say ambassador bodi litter street boko haram attack baga north korea warn war disast us lift unreason sanction danish newspap say print prophet cartoon boko haram kill destroy villag borno two islamist newspap turkey drawn ire social media headlin justifi deadli attack french satir newspap head mi andrew parker call new power help fight islamist extrem warn danger imbal increas number terrorist plot uk drop capabl intellig servic snoop commun million flee ukrain close humanitarian catastroph german nurs admit kill patient work hospit german citi delmenhorst investig possibl kill anoth china tomb chariot hors skeleton date back year found hubei',\n",
       " 'world largest indoor farm japan time product outdoor field use less water less power creat less food wast egypt student get year jail term atheism egyptian court sentenc student three year jail announc facebook atheist insult islam saudi princ barrel oil never boko haram massacr big survivor give count bodi bomb threat belgian paper reprint charli hebdo cartoon benjamin netanyahu ridicul appear pari attend pari march despit holland object least one major oil compani turn back fossil fuel say scientist oil compani also realis long moral defens ignor consequ climat chang nigeria need support franc boko haram attack archbishop kaigama speak anoth bloodi weekend nigeria three femal suicid bomber includ one thought young ten kill least peopl restiv northeast isi issu mandatori conscript men syria iraq oil hit new five half year low barrel peopl die drink poison beer mozambiqu turkish imam germani stand guard front media build solidar terror cuba freed prison agre u deal unpaid intern charg job refer thinktank anonym block jihadist websit retali charli hebdo attack burqua ban approv lawmak muslim uighur region xinjiang last month set go effect report say ban part effort curb grow extrem femal genit mutil done hospit africa health care provid perform percent fgm case trend grow accord world health organ feel free breastfe pope tell mother sistin chapel march pari yet block freedom speech home london landmark lit colour french flag crowd gather trafalgar squar tribut kill pari terror attack deadli taliban attack kill children peshawar pakistan armi public school reopen boko haram forc year old commit suicid bomb nigerian market franc deploy troop iran eclips us iraq alli fight milit lava flow iceland size manhattan',\n",
       " 'china ban burqa biggest muslim citi us eu politician use charli hebdo attack call internet surveil fusion muslim mayor rotterdam tell islamist f live televis charli hebdo first cover sinc attack nigeria need support franc boko haram attack kill archbishop uk may ban whatsapp snapchat new anti terror law british prime minist fox news secur analyst clearli complet idiot lesbian kick vienna caf kiss student organ start kiss campaign attend civilian dead shell hit bu ukrain cameron say mean commun cannot read russian media turkish politician suggest u isra involv pari attack us central command twitter youtub feed hack isi ultra orthodox jewish newspap edit femal world leader charli hebdo march expens cancer drug push england nh list chang england cancer drug fund mean april new cancer patient longer abl receiv number expens treatment avail nh david cameron want ban end end encrypt surveil plan nick clegg today condemn call reviv call snooper charter follow pari terror attack warn make safer make less free german anti islam march dresden draw record number scientist includ stephen hawk elon musk sign letter pledg ensur artifici intellig research benefit mankind great lake teem tini plastic microfib cbc pope franci blame pari attack deviant form religion amid new worri may isi target peopl starv eastern ukrain humanitarian crisi unfold attack owner pari kosher market plan move israel anti islamist movement surfac switzerland interpol issu global want notic former ukrain presid viktor yanukovich number al qaeda want list sell french fri florida mall food court',\n",
       " 'cameroon armi kill boko haram fighter air franc hand copi charli hebdo flight turkish presid accus west behind charli hebdo attack deliber blame muslim french comedian dieudonn arrest apologist terror facebook post turkey main opposit parti chp call islam countri adopt secular order end root terror denounc last week deadli pari attack stress kill innoc peopl noth islam ride coattail accus intern commun ignor african woe come afrileak whistleblow websit dedic expos corrupt abus power across africa internet instrument mass net neutral key indian telecom minist marxist dalai lama say twitter facebook face closur turkey anonym account publish document reveal illeg arm shipment turkish spi agenc opposit group syria russia cut world return past would monstrou mistak prime minist dmitri medvedev said wednesday januari new isi video appear show child execut russian agent turkish polic raid daili newspap cumhuriyet search destroy possibl moham cartoon north korean walk across frozen river china commit murder charli hebdo print run rais copi franc sell poacher kill forest guard india kaziranga nation park peshmerga kill six islam state leader hour mass anim die off rise kill billion amp rais question huge die off diseas outbreak amp stressor happen often mass die off individu event kill least billion anim wipe popul destroy ton worth anim charli hebdo muhammad cover goe global despit muslim ire egypt islam author denounc charli hebdo cover action unjustifi provoc feel billion muslim mosqu fire bomb pelt pig head aftermath pari terror attack oil price per barrel cost russian budget billion doubl agent reportedli stole list contain real undercov name german intellig employe spi arrest last juli suspicion work cia stolen document could jeopard half agent bnd russian troop station near finnish border putin begin move arctic kim jong un snub china accept putin invit moscow belgian arm dealer confess suppli pari attack fossil found p e boy fill gap reptil evolut',\n",
       " 'saudi man sentenc year jail weekli public cane month guilti set public onlin forum debat discuss children cage keep street clean pope polic round orphan chain filth pontiff visit philippin pari shoot sign petit muslim hero hid hostag get french citizenship prestigi legion honneur indonesia revok passport citizen join isi malian describ hero help hostag jewish supermarket hide last week pari attack award french nation tuesday interior minist bernard cazeneuv said swiss franc jump euro snb swiss nation bank scrap exchang rate limit franc send aircraft carrier battl saudi arabia build mile great wall shield isi data privaci human right say eu electron commun secur europ less accord report european union agenc network inform secur enisa baghdadi execut isil member defeat southern erbil kurd gay italian cook forc go prostitut prove heterosexu lose job charli hebdo writer hold muham cover sky news network cut away apolog hama new charli hedbo cover zionist lobbi plot indian rule parti support decrimin homosexu jesuischarli creator phrase cannot trademark million declar je sui charli social media peopl tri trademark imag franc alon creator campaign angri solar grid pariti world collaps oil price littl slow solar juggernaut intern space station crew evacu russian segment amid ammonia leak fear pari motorist deliber run policewoman outsid presidenti resid muslim philippin march charli hebdo charli hebdo sell alreadi ebay k target canada close store file creditor protect nasrallah hezbollah prepar war deep israel beyond galile carlo slim mexican billionair becom top new york time sharehold ottawa mosqu concern sharp rise young men convert islam nigeria satellit imag show horrif scale boko haram attack baga']"
      ]
     },
     "execution_count": 61,
     "metadata": {},
     "output_type": "execute_result"
    }
   ],
   "source": [
    "test_corpus[0:10]"
   ]
  },
  {
   "cell_type": "code",
   "execution_count": 65,
   "metadata": {
    "colab": {},
    "colab_type": "code",
    "id": "Tl0rHTTpawoP"
   },
   "outputs": [],
   "source": [
    "down_words = []\n",
    "for i in list(y_train[y_train==0].index):\n",
    "  down_words.append(train_corpus[i])\n",
    "\n",
    "up_words = []\n",
    "for i in list(y_train[y_train==1].index):\n",
    "  up_words.append(train_corpus[i])"
   ]
  },
  {
   "cell_type": "code",
   "execution_count": 66,
   "metadata": {
    "colab": {
     "base_uri": "https://localhost:8080/",
     "height": 418
    },
    "colab_type": "code",
    "id": "Mnsg4zYnajog",
    "outputId": "0207dbdc-a48c-415f-9832-2d39bc80eb04"
   },
   "outputs": [
    {
     "ename": "ModuleNotFoundError",
     "evalue": "No module named 'wordcloud'",
     "output_type": "error",
     "traceback": [
      "\u001b[1;31m---------------------------------------------------------------------------\u001b[0m",
      "\u001b[1;31mModuleNotFoundError\u001b[0m                       Traceback (most recent call last)",
      "Input \u001b[1;32mIn [66]\u001b[0m, in \u001b[0;36m<cell line: 2>\u001b[1;34m()\u001b[0m\n\u001b[0;32m      1\u001b[0m \u001b[38;5;66;03m# Creating wordcloud for down_words\u001b[39;00m\n\u001b[1;32m----> 2\u001b[0m \u001b[38;5;28;01mfrom\u001b[39;00m \u001b[38;5;21;01mwordcloud\u001b[39;00m \u001b[38;5;28;01mimport\u001b[39;00m WordCloud\n\u001b[0;32m      3\u001b[0m wordcloud1 \u001b[38;5;241m=\u001b[39m WordCloud(background_color\u001b[38;5;241m=\u001b[39m\u001b[38;5;124m'\u001b[39m\u001b[38;5;124mwhite\u001b[39m\u001b[38;5;124m'\u001b[39m, width\u001b[38;5;241m=\u001b[39m\u001b[38;5;241m3000\u001b[39m, height\u001b[38;5;241m=\u001b[39m\u001b[38;5;241m2500\u001b[39m)\u001b[38;5;241m.\u001b[39mgenerate(down_words[\u001b[38;5;241m1\u001b[39m])\n\u001b[0;32m      4\u001b[0m plt\u001b[38;5;241m.\u001b[39mfigure(figsize\u001b[38;5;241m=\u001b[39m(\u001b[38;5;241m8\u001b[39m,\u001b[38;5;241m8\u001b[39m))\n",
      "\u001b[1;31mModuleNotFoundError\u001b[0m: No module named 'wordcloud'"
     ]
    }
   ],
   "source": [
    "# Creating wordcloud for down_words\n",
    "from wordcloud import WordCloud\n",
    "wordcloud1 = WordCloud(background_color='white', width=3000, height=2500).generate(down_words[1])\n",
    "plt.figure(figsize=(8,8))\n",
    "plt.imshow(wordcloud1)\n",
    "plt.axis('off')\n",
    "plt.title(\"Words which indicate a fall in DJIA \")\n",
    "plt.show()"
   ]
  },
  {
   "cell_type": "code",
   "execution_count": 67,
   "metadata": {
    "colab": {
     "base_uri": "https://localhost:8080/",
     "height": 418
    },
    "colab_type": "code",
    "id": "65u890APwhzr",
    "outputId": "5d1442ae-0a27-49af-9284-0c59dcfd719f"
   },
   "outputs": [
    {
     "data": {
      "image/png": "[encoded data removed]",
      "text/plain": [
       "<Figure size 576x576 with 1 Axes>"
      ]
     },
     "metadata": {
      "needs_background": "light",
      "tags": []
     },
     "output_type": "display_data"
    }
   ],
   "source": [
    "# Creating wordcloud for up_words\n",
    "wordcloud2 = WordCloud(background_color='white', width=3000, height=2500).generate(up_words[5])\n",
    "plt.figure(figsize=(8,8))\n",
    "plt.imshow(wordcloud2)\n",
    "plt.axis('off')\n",
    "plt.title(\"Words which indicate a rise in DJIA \")\n",
    "plt.show()"
   ]
  },
  {
   "cell_type": "code",
   "execution_count": 0,
   "metadata": {
    "colab": {},
    "colab_type": "code",
    "id": "tUitCSbEZzS3"
   },
   "outputs": [],
   "source": [
    "# Creating the Bag of Words model\n",
    "from sklearn.feature_extraction.text import CountVectorizer\n",
    "cv = CountVectorizer(max_features=10000, ngram_range=(2,2))\n",
    "X_train = cv.fit_transform(train_corpus).toarray()"
   ]
  },
  {
   "cell_type": "code",
   "execution_count": 0,
   "metadata": {
    "colab": {},
    "colab_type": "code",
    "id": "Jcv69nnllDYH"
   },
   "outputs": [],
   "source": [
    "X_test = cv.transform(test_corpus).toarray()"
   ]
  },
  {
   "cell_type": "markdown",
   "metadata": {
    "colab_type": "text",
    "id": "p3s5bBHAfmpe"
   },
   "source": [
    "# **Model Building**"
   ]
  },
  {
   "cell_type": "markdown",
   "metadata": {
    "colab_type": "text",
    "id": "tzTm9A6zfpgs"
   },
   "source": [
    "## *Logistic Regression*"
   ]
  },
  {
   "cell_type": "code",
   "execution_count": 109,
   "metadata": {
    "colab": {
     "base_uri": "https://localhost:8080/",
     "height": 105
    },
    "colab_type": "code",
    "id": "bz-1XUZYf-1H",
    "outputId": "a2d139d7-da07-42b6-a9f1-2b63432d4a16"
   },
   "outputs": [
    {
     "data": {
      "text/plain": [
       "LogisticRegression(C=1.0, class_weight=None, dual=False, fit_intercept=True,\n",
       "                   intercept_scaling=1, l1_ratio=None, max_iter=100,\n",
       "                   multi_class='auto', n_jobs=None, penalty='l2',\n",
       "                   random_state=None, solver='lbfgs', tol=0.0001, verbose=0,\n",
       "                   warm_start=False)"
      ]
     },
     "execution_count": 109,
     "metadata": {
      "tags": []
     },
     "output_type": "execute_result"
    }
   ],
   "source": [
    "from sklearn.linear_model import LogisticRegression\n",
    "lr_classifier = LogisticRegression()\n",
    "lr_classifier.fit(X_train, y_train)"
   ]
  },
  {
   "cell_type": "code",
   "execution_count": 0,
   "metadata": {
    "colab": {},
    "colab_type": "code",
    "id": "VZEDC_xEgPBP"
   },
   "outputs": [],
   "source": [
    "lr_y_pred = lr_classifier.predict(X_test)"
   ]
  },
  {
   "cell_type": "code",
   "execution_count": 111,
   "metadata": {
    "colab": {
     "base_uri": "https://localhost:8080/",
     "height": 87
    },
    "colab_type": "code",
    "id": "z7rIrq2xgPmD",
    "outputId": "483ace4d-4b4e-418b-e43b-352d384d95fe"
   },
   "outputs": [
    {
     "name": "stdout",
     "output_type": "stream",
     "text": [
      "---- Scores ----\n",
      "Accuracy score is: 85.98%\n",
      "Precision score is: 0.87\n",
      "Recall score is: 0.85\n"
     ]
    }
   ],
   "source": [
    "# Accuracy, Precision and Recall\n",
    "from sklearn.metrics import accuracy_score, precision_score, recall_score\n",
    "score1 = accuracy_score(y_test, lr_y_pred)\n",
    "score2 = precision_score(y_test, lr_y_pred)\n",
    "score3 = recall_score(y_test, lr_y_pred)\n",
    "print(\"---- Scores ----\")\n",
    "print(\"Accuracy score is: {}%\".format(round(score1*100,2)))\n",
    "print(\"Precision score is: {}\".format(round(score2,2)))\n",
    "print(\"Recall score is: {}\".format(round(score3,2)))"
   ]
  },
  {
   "cell_type": "code",
   "execution_count": 0,
   "metadata": {
    "colab": {},
    "colab_type": "code",
    "id": "l8r6DUJsgPhv"
   },
   "outputs": [],
   "source": [
    "# Making the Confusion Matrix\n",
    "from sklearn.metrics import confusion_matrix\n",
    "lr_cm = confusion_matrix(y_test, lr_y_pred)"
   ]
  },
  {
   "cell_type": "code",
   "execution_count": 113,
   "metadata": {
    "colab": {
     "base_uri": "https://localhost:8080/",
     "height": 52
    },
    "colab_type": "code",
    "id": "s8zW0elGgwka",
    "outputId": "8153dc52-84b5-4676-9433-9169caf1167c"
   },
   "outputs": [
    {
     "data": {
      "text/plain": [
       "array([[162,  24],\n",
       "       [ 29, 163]])"
      ]
     },
     "execution_count": 113,
     "metadata": {
      "tags": []
     },
     "output_type": "execute_result"
    }
   ],
   "source": [
    "lr_cm"
   ]
  },
  {
   "cell_type": "code",
   "execution_count": 114,
   "metadata": {
    "colab": {
     "base_uri": "https://localhost:8080/",
     "height": 457
    },
    "colab_type": "code",
    "id": "WMghDU4rgwh_",
    "outputId": "8bffad57-de26-42c5-8208-faf3f8e9f83e"
   },
   "outputs": [
    {
     "data": {
      "image/png": "[encoded data removed]",
      "text/plain": [
       "<Figure size 720x504 with 2 Axes>"
      ]
     },
     "metadata": {
      "needs_background": "light",
      "tags": []
     },
     "output_type": "display_data"
    }
   ],
   "source": [
    "# Plotting the confusion matrix\n",
    "plt.figure(figsize=(10,7))\n",
    "sns.heatmap(data=lr_cm, annot=True, cmap=\"Blues\", xticklabels=['Down', 'Up'], yticklabels=['Down', 'Up'])\n",
    "plt.xlabel('Predicted values')\n",
    "plt.ylabel('Actual values')\n",
    "plt.title('Confusion Matrix for Logistic Regression Algorithm')\n",
    "plt.show()"
   ]
  },
  {
   "cell_type": "markdown",
   "metadata": {
    "colab_type": "text",
    "id": "vVCt3U33fpYf"
   },
   "source": [
    "## *Random Forest Classifier*"
   ]
  },
  {
   "cell_type": "code",
   "execution_count": 115,
   "metadata": {
    "colab": {
     "base_uri": "https://localhost:8080/",
     "height": 158
    },
    "colab_type": "code",
    "id": "nYr_nKLAhJLI",
    "outputId": "851cf507-5d02-4599-ab9a-fc5e284df7b1"
   },
   "outputs": [
    {
     "data": {
      "text/plain": [
       "RandomForestClassifier(bootstrap=True, ccp_alpha=0.0, class_weight=None,\n",
       "                       criterion='entropy', max_depth=None, max_features='auto',\n",
       "                       max_leaf_nodes=None, max_samples=None,\n",
       "                       min_impurity_decrease=0.0, min_impurity_split=None,\n",
       "                       min_samples_leaf=1, min_samples_split=2,\n",
       "                       min_weight_fraction_leaf=0.0, n_estimators=100,\n",
       "                       n_jobs=None, oob_score=False, random_state=None,\n",
       "                       verbose=0, warm_start=False)"
      ]
     },
     "execution_count": 115,
     "metadata": {
      "tags": []
     },
     "output_type": "execute_result"
    }
   ],
   "source": [
    "from sklearn.ensemble import RandomForestClassifier\n",
    "rf_classifier = RandomForestClassifier(n_estimators=100, criterion='entropy')\n",
    "rf_classifier.fit(X_train, y_train)"
   ]
  },
  {
   "cell_type": "code",
   "execution_count": 0,
   "metadata": {
    "colab": {},
    "colab_type": "code",
    "id": "L-Bm0PDJhJG_"
   },
   "outputs": [],
   "source": [
    "rf_y_pred = rf_classifier.predict(X_test)"
   ]
  },
  {
   "cell_type": "code",
   "execution_count": 117,
   "metadata": {
    "colab": {
     "base_uri": "https://localhost:8080/",
     "height": 87
    },
    "colab_type": "code",
    "id": "cGjmgNxLhI0_",
    "outputId": "b9ea2f0b-a64c-41c7-a635-656f218bc20d"
   },
   "outputs": [
    {
     "name": "stdout",
     "output_type": "stream",
     "text": [
      "---- Scores ----\n",
      "Accuracy score is: 84.13%\n",
      "Precision score is: 0.81\n",
      "Recall score is: 0.89\n"
     ]
    }
   ],
   "source": [
    "# Accuracy, Precision and Recall\n",
    "score1 = accuracy_score(y_test, rf_y_pred)\n",
    "score2 = precision_score(y_test, rf_y_pred)\n",
    "score3 = recall_score(y_test, rf_y_pred)\n",
    "print(\"---- Scores ----\")\n",
    "print(\"Accuracy score is: {}%\".format(round(score1*100,2)))\n",
    "print(\"Precision score is: {}\".format(round(score2,2)))\n",
    "print(\"Recall score is: {}\".format(round(score3,2)))"
   ]
  },
  {
   "cell_type": "code",
   "execution_count": 0,
   "metadata": {
    "colab": {},
    "colab_type": "code",
    "id": "IsCxzdE1ysHg"
   },
   "outputs": [],
   "source": [
    "# Making the Confusion Matrix\n",
    "rf_cm = confusion_matrix(y_test, rf_y_pred)"
   ]
  },
  {
   "cell_type": "code",
   "execution_count": 119,
   "metadata": {
    "colab": {
     "base_uri": "https://localhost:8080/",
     "height": 52
    },
    "colab_type": "code",
    "id": "3XyLYJ9XyvkP",
    "outputId": "4b4a5f18-d388-45b2-a5fc-403e52bd27ff"
   },
   "outputs": [
    {
     "data": {
      "text/plain": [
       "array([[147,  39],\n",
       "       [ 21, 171]])"
      ]
     },
     "execution_count": 119,
     "metadata": {
      "tags": []
     },
     "output_type": "execute_result"
    }
   ],
   "source": [
    "rf_cm"
   ]
  },
  {
   "cell_type": "code",
   "execution_count": 120,
   "metadata": {
    "colab": {
     "base_uri": "https://localhost:8080/",
     "height": 457
    },
    "colab_type": "code",
    "id": "w_Q6THX-y0-_",
    "outputId": "8b3a8fad-8c50-422e-afa0-b90409421e91"
   },
   "outputs": [
    {
     "data": {
      "image/png": "[encoded data removed]",
      "text/plain": [
       "<Figure size 720x504 with 2 Axes>"
      ]
     },
     "metadata": {
      "needs_background": "light",
      "tags": []
     },
     "output_type": "display_data"
    }
   ],
   "source": [
    "# Plotting the confusion matrix\n",
    "plt.figure(figsize=(10,7))\n",
    "sns.heatmap(data=rf_cm, annot=True, cmap=\"Blues\", xticklabels=['Down', 'Up'], yticklabels=['Down', 'Up'])\n",
    "plt.xlabel('Predicted values')\n",
    "plt.ylabel('Actual values')\n",
    "plt.title('Confusion Matrix for Random Forest Algorithm')\n",
    "plt.show()"
   ]
  },
  {
   "cell_type": "markdown",
   "metadata": {
    "colab_type": "text",
    "id": "dnqOScUHf6Dg"
   },
   "source": [
    "## *Multinomial Naive Bayes*"
   ]
  },
  {
   "cell_type": "code",
   "execution_count": 121,
   "metadata": {
    "colab": {
     "base_uri": "https://localhost:8080/",
     "height": 34
    },
    "colab_type": "code",
    "id": "tVRPeDb6fmN-",
    "outputId": "f7ff691e-a167-4a4b-8651-2e71bc44466a"
   },
   "outputs": [
    {
     "data": {
      "text/plain": [
       "MultinomialNB(alpha=1.0, class_prior=None, fit_prior=True)"
      ]
     },
     "execution_count": 121,
     "metadata": {
      "tags": []
     },
     "output_type": "execute_result"
    }
   ],
   "source": [
    "from sklearn.naive_bayes import MultinomialNB\n",
    "nb_classifier = MultinomialNB()\n",
    "nb_classifier.fit(X_train, y_train)"
   ]
  },
  {
   "cell_type": "code",
   "execution_count": 0,
   "metadata": {
    "colab": {},
    "colab_type": "code",
    "id": "mWjgDBq8fdOb"
   },
   "outputs": [],
   "source": [
    "# Predicting the Test set results\n",
    "nb_y_pred = nb_classifier.predict(X_test)"
   ]
  },
  {
   "cell_type": "code",
   "execution_count": 123,
   "metadata": {
    "colab": {
     "base_uri": "https://localhost:8080/",
     "height": 87
    },
    "colab_type": "code",
    "id": "FDbl0TWXh-i8",
    "outputId": "df75f696-693c-4cac-9a2f-4b7715f8fc04"
   },
   "outputs": [
    {
     "name": "stdout",
     "output_type": "stream",
     "text": [
      "---- Scores ----\n",
      "Accuracy score is: 83.86%\n",
      "Precision score is: 0.85\n",
      "Recall score is: 0.83\n"
     ]
    }
   ],
   "source": [
    "# Accuracy, Precision and Recall\n",
    "score1 = accuracy_score(y_test, nb_y_pred)\n",
    "score2 = precision_score(y_test, nb_y_pred)\n",
    "score3 = recall_score(y_test, nb_y_pred)\n",
    "print(\"---- Scores ----\")\n",
    "print(\"Accuracy score is: {}%\".format(round(score1*100,2)))\n",
    "print(\"Precision score is: {}\".format(round(score2,2)))\n",
    "print(\"Recall score is: {}\".format(round(score3,2)))"
   ]
  },
  {
   "cell_type": "code",
   "execution_count": 0,
   "metadata": {
    "colab": {},
    "colab_type": "code",
    "id": "JnopGQlyy-UR"
   },
   "outputs": [],
   "source": [
    "# Making the Confusion Matrix\n",
    "nb_cm = confusion_matrix(y_test, nb_y_pred)"
   ]
  },
  {
   "cell_type": "code",
   "execution_count": 125,
   "metadata": {
    "colab": {
     "base_uri": "https://localhost:8080/",
     "height": 52
    },
    "colab_type": "code",
    "id": "MGOugTYqzAZf",
    "outputId": "7b546b10-1321-4738-edaa-0d1c10f2ca79"
   },
   "outputs": [
    {
     "data": {
      "text/plain": [
       "array([[158,  28],\n",
       "       [ 33, 159]])"
      ]
     },
     "execution_count": 125,
     "metadata": {
      "tags": []
     },
     "output_type": "execute_result"
    }
   ],
   "source": [
    "nb_cm"
   ]
  },
  {
   "cell_type": "code",
   "execution_count": 126,
   "metadata": {
    "colab": {
     "base_uri": "https://localhost:8080/",
     "height": 457
    },
    "colab_type": "code",
    "id": "UY-PVvYUzBXX",
    "outputId": "401a8e8b-9a41-4345-b01e-96f883c2c91a"
   },
   "outputs": [
    {
     "data": {
      "image/png": "[encoded data removed]",
      "text/plain": [
       "<Figure size 720x504 with 2 Axes>"
      ]
     },
     "metadata": {
      "needs_background": "light",
      "tags": []
     },
     "output_type": "display_data"
    }
   ],
   "source": [
    "# Plotting the confusion matrix\n",
    "plt.figure(figsize=(10,7))\n",
    "sns.heatmap(data=nb_cm, annot=True, cmap=\"Blues\", xticklabels=['Down', 'Up'], yticklabels=['Down', 'Up'])\n",
    "plt.xlabel('Predicted values')\n",
    "plt.ylabel('Actual values')\n",
    "plt.title('Confusion Matrix for Multinomial Naive Bayes Algorithm')\n",
    "plt.show()"
   ]
  },
  {
   "cell_type": "markdown",
   "metadata": {
    "colab_type": "text",
    "id": "p7wwir-60mqo"
   },
   "source": [
    "# **Predictions**"
   ]
  },
  {
   "cell_type": "code",
   "execution_count": 0,
   "metadata": {
    "colab": {},
    "colab_type": "code",
    "id": "X1CHiUyg0pSA"
   },
   "outputs": [],
   "source": [
    "import re\n",
    "\n",
    "def stock_prediction(sample_news):\n",
    "  sample_news = re.sub(pattern='[^a-zA-Z]',repl=' ', string=sample_news)\n",
    "  sample_news = sample_news.lower()\n",
    "  sample_news_words = sample_news.split()\n",
    "  sample_news_words = [word for word in sample_news_words if not word in set(stopwords.words('english'))]\n",
    "  ps = PorterStemmer()\n",
    "  final_news = [ps.stem(word) for word in sample_news_words]\n",
    "  final_news = ' '.join(final_news)\n",
    "\n",
    "  temp = cv.transform([final_news]).toarray()\n",
    "  return lr_classifier.predict(temp)"
   ]
  },
  {
   "cell_type": "code",
   "execution_count": 0,
   "metadata": {
    "colab": {},
    "colab_type": "code",
    "id": "1jZdYuQx1Nlv"
   },
   "outputs": [],
   "source": [
    "# For generating random integer\n",
    "from random import randint"
   ]
  },
  {
   "cell_type": "code",
   "execution_count": 0,
   "metadata": {
    "colab": {},
    "colab_type": "code",
    "id": "AuuxZK222fII"
   },
   "outputs": [],
   "source": [
    "sample_test = df_copy[df_copy['Date'] > '20141231']"
   ]
  },
  {
   "cell_type": "code",
   "execution_count": 0,
   "metadata": {
    "colab": {},
    "colab_type": "code",
    "id": "m0jRGmhG2lgm"
   },
   "outputs": [],
   "source": [
    "sample_test.reset_index(inplace=True)\n",
    "sample_test = sample_test['Top1']"
   ]
  },
  {
   "cell_type": "code",
   "execution_count": 149,
   "metadata": {
    "colab": {
     "base_uri": "https://localhost:8080/",
     "height": 52
    },
    "colab_type": "code",
    "id": "ni5XoK241M5s",
    "outputId": "e3f91447-d2fe-4fdc-94f3-a56d2f445a90"
   },
   "outputs": [
    {
     "name": "stdout",
     "output_type": "stream",
     "text": [
      "News: British ISIS fighter who called himself 'Superman' but returned to the UK because Syria was too cold is jailed for seven years\n",
      "Prediction: The stock price will remain the same or will go down.\n"
     ]
    }
   ],
   "source": [
    "# Predicting values\n",
    "row = randint(0,sample_test.shape[0]-1)\n",
    "sample_news = sample_test[row]\n",
    "\n",
    "print('News: {}'.format(sample_news))\n",
    "if stock_prediction(sample_news):\n",
    "  print('Prediction: The stock price will remain the same or will go down.')\n",
    "else:\n",
    "  print('Prediction: The stock price will go up!')"
   ]
  },
  {
   "cell_type": "code",
   "execution_count": 150,
   "metadata": {
    "colab": {
     "base_uri": "https://localhost:8080/",
     "height": 52
    },
    "colab_type": "code",
    "id": "WMJFAtG52K7P",
    "outputId": "16d3d8e7-86f3-43d4-c6c8-f391881f523a"
   },
   "outputs": [
    {
     "name": "stdout",
     "output_type": "stream",
     "text": [
      "News: England's Doctors Walk Out of Emergency Wards in First Ever All-Out Strike\n",
      "Prediction: The stock price will go up!\n"
     ]
    }
   ],
   "source": [
    "# Predicting values\n",
    "row = randint(0,sample_test.shape[0]-1)\n",
    "sample_news = sample_test[row]\n",
    "\n",
    "print('News: {}'.format(sample_news))\n",
    "if stock_prediction(sample_news):\n",
    "  print('Prediction: The stock price will remain the same or will go down.')\n",
    "else:\n",
    "  print('Prediction: The stock price will go up!')"
   ]
  },
  {
   "cell_type": "code",
   "execution_count": 147,
   "metadata": {
    "colab": {
     "base_uri": "https://localhost:8080/",
     "height": 52
    },
    "colab_type": "code",
    "id": "pNPZ_VXB3PIk",
    "outputId": "0b2d4906-2d6a-4312-e539-47cf70fc3bcb"
   },
   "outputs": [
    {
     "name": "stdout",
     "output_type": "stream",
     "text": [
      "News: Homeopathy conference in Germany ends in chaos after delegates take hallucinogenic drug\n",
      "Prediction: The stock price will remain the same or will go down.\n"
     ]
    }
   ],
   "source": [
    "# Predicting values\n",
    "row = randint(0,sample_test.shape[0]-1)\n",
    "sample_news = sample_test[row]\n",
    "\n",
    "print('News: {}'.format(sample_news))\n",
    "if stock_prediction(sample_news):\n",
    "  print('Prediction: The stock price will remain the same or will go down.')\n",
    "else:\n",
    "  print('Prediction: The stock price will go up!')"
   ]
  },
  {
   "cell_type": "code",
   "execution_count": 151,
   "metadata": {
    "colab": {
     "base_uri": "https://localhost:8080/",
     "height": 52
    },
    "colab_type": "code",
    "id": "r2dzoNTp3h63",
    "outputId": "dc92822a-933e-4330-bdd8-ab9a842f91ce"
   },
   "outputs": [
    {
     "name": "stdout",
     "output_type": "stream",
     "text": [
      "News: Belgium Tells Facebook to Stop Storing Data From Non-Users - Facebook faces a fine of 250,000 euros ($269,000) a day if it doesnt comply\n",
      "Prediction: The stock price will remain the same or will go down.\n"
     ]
    }
   ],
   "source": [
    "# Predicting values\n",
    "row = randint(0,sample_test.shape[0]-1)\n",
    "sample_news = sample_test[row]\n",
    "\n",
    "print('News: {}'.format(sample_news))\n",
    "if stock_prediction(sample_news):\n",
    "  print('Prediction: The stock price will remain the same or will go down.')\n",
    "else:\n",
    "  print('Prediction: The stock price will go up!')"
   ]
  }
 ],
 "metadata": {
  "colab": {
   "collapsed_sections": [],
   "name": "Stock Sentiment Analysis using News Headlines.ipynb",
   "provenance": []
  },
  "kernelspec": {
   "display_name": "Python 3 (ipykernel)",
   "language": "python",
   "name": "python3"
  },
  "language_info": {
   "codemirror_mode": {
    "name": "ipython",
    "version": 3
   },
   "file_extension": ".py",
   "mimetype": "text/x-python",
   "name": "python",
   "nbconvert_exporter": "python",
   "pygments_lexer": "ipython3",
   "version": "3.10.2"
  }
 },
 "nbformat": 4,
 "nbformat_minor": 1
}
